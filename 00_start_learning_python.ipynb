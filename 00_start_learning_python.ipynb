{
 "cells": [
  {
   "cell_type": "markdown",
   "metadata": {},
   "source": [
    "# Learning Python"
   ]
  },
  {
   "cell_type": "markdown",
   "metadata": {},
   "source": [
    "Hier sind einige Gründe, warum Python so wichtig und weit verbreitet ist:\n",
    "\n",
    "1. Einfach zu erlernen und zu lesen: Python wurde mit einem klaren und einfachen Syntax-Design entwickelt, der es für Anfänger leicht verständlich macht. Die klare und lesbare Syntax erleichtert das Schreiben von Code und das Verstehen von bestehendem Code.\n",
    "\n",
    "1. Vielseitigkeit: Python ist eine multiparadigmatische Programmiersprache, die sowohl objektorientierte, funktionale als auch imperativ-prozedurale Programmierung unterstützt. Diese Vielseitigkeit ermöglicht es, in vielen verschiedenen Anwendungsgebieten zu arbeiten, sei es Webentwicklung, Datenanalyse, maschinelles Lernen, künstliche Intelligenz oder andere Bereiche.\n",
    "\n",
    "1. Große Entwickler-Community: Python hat eine der größten Entwickler-Communities in der Welt der Programmiersprachen. Dies bedeutet, dass es eine Fülle von Online-Ressourcen, Foren und Bibliotheken gibt, die dir bei der Lösung von Problemen und der Weiterentwicklung deiner Fähigkeiten helfen können.\n",
    "\n",
    "1. Umfangreiche Bibliotheken und Frameworks: Python verfügt über eine umfangreiche Sammlung von Bibliotheken und Frameworks, die die Entwicklung von Anwendungen in verschiedenen Bereichen erheblich beschleunigen. Zum Beispiel ermöglichen Bibliotheken wie NumPy und pandas die Datenverarbeitung, während Flask und Django die Webentwicklung vereinfachen.\n",
    "\n",
    "1. Weite Verbreitung in der Industrie: Python wird von vielen großen Unternehmen und Organisationen weltweit eingesetzt. Dies umfasst Tech-Giganten wie Google, Facebook und Netflix, aber auch Organisationen im Bereich der Wissenschaft und Forschung. Die breite Akzeptanz von Python bedeutet, dass Python-Entwickler gefragt sind und gute Karrierechancen haben.\n",
    "\n",
    "1. Data Science und künstliche Intelligenz: Python ist die bevorzugte Programmiersprache in der Data Science und künstlichen Intelligenz (KI). Bibliotheken wie TensorFlow und scikit-learn haben Python als primäre Schnittstelle, was es zu einer wichtigen Sprache in diesen aufstrebenden Bereichen macht."
   ]
  },
  {
   "cell_type": "markdown",
   "metadata": {},
   "source": [
    "#### Python ist \"dynamically typed\"\n",
    "\n",
    "In Python ist das Folgende möglich (aber sicher kein guter Programmierstil):"
   ]
  },
  {
   "cell_type": "code",
   "execution_count": 1,
   "metadata": {},
   "outputs": [
    {
     "name": "stdout",
     "output_type": "stream",
     "text": [
      "5 <class 'int'>\n",
      "Die Katze macht miau! <class 'str'>\n"
     ]
    }
   ],
   "source": [
    "einfache_variable = 5\n",
    "print(einfache_variable, type(einfache_variable))\n",
    "\n",
    "einfache_variable = \"Die Katze macht miau!\"\n",
    "print(einfache_variable, type(einfache_variable))"
   ]
  },
  {
   "cell_type": "markdown",
   "metadata": {},
   "source": []
  },
  {
   "cell_type": "markdown",
   "metadata": {},
   "source": [
    "#### Python ist eine interpretierte Sprache und nicht eine kompilierte Spache"
   ]
  },
  {
   "cell_type": "markdown",
   "metadata": {},
   "source": [
    "#### Python strukturiert seinen Code nicht mit geschweiften Klammern, sondern mit Einrücken"
   ]
  },
  {
   "cell_type": "code",
   "execution_count": 2,
   "metadata": {},
   "outputs": [
    {
     "name": "stdout",
     "output_type": "stream",
     "text": [
      "Du hast gewonnen!\n"
     ]
    }
   ],
   "source": [
    "score = 15\n",
    "\n",
    "if score > 10:\n",
    "    print(\"Du hast gewonnen!\")\n",
    "else:\n",
    "    print(\"Du hast verloren!\")"
   ]
  },
  {
   "cell_type": "code",
   "execution_count": 6,
   "metadata": {},
   "outputs": [
    {
     "name": "stdout",
     "output_type": "stream",
     "text": [
      "0\n",
      "0\n",
      "1\n",
      "2\n",
      "2\n",
      "4\n",
      "Ende\n"
     ]
    }
   ],
   "source": [
    "for num in range(3):\n",
    "    print(num)\n",
    "    print(num * 2)\n",
    "print(\"Ende\")"
   ]
  },
  {
   "cell_type": "markdown",
   "metadata": {},
   "source": [
    "#### Jetzt werden wir uns einzelne Themen genauer anschauen:\n",
    "\n",
    "##### Variablen:\n",
    "1. [Strings in Python](01_strings.ipynb)\n",
    "1. [Zahlen in Python](02_numbers.ipynb)\n",
    "##### Kontrollstrukturen\n",
    "3. [Konditionen (if/else/True/False/And/Or/Not) in Python](03_conditionals.ipynb)\n",
    "##### Datenstrukturen\n",
    "4. [Listen in Python](04_lists.ipynb)\n",
    "5. [Dictionaries in Python](05_dictionaries.ipynb)\n",
    "##### Schlaufen\n",
    "6. [For Loops in Python](06_for_loops.ipynb)\n",
    "##### Funktionen\n",
    "7. [Funktionen in Python](07_functions.ipynb)\n"
   ]
  }
 ],
 "metadata": {
  "kernelspec": {
   "display_name": ".venv",
   "language": "python",
   "name": "python3"
  },
  "language_info": {
   "codemirror_mode": {
    "name": "ipython",
    "version": 3
   },
   "file_extension": ".py",
   "mimetype": "text/x-python",
   "name": "python",
   "nbconvert_exporter": "python",
   "pygments_lexer": "ipython3",
   "version": "3.8.10"
  },
  "orig_nbformat": 4
 },
 "nbformat": 4,
 "nbformat_minor": 2
}
